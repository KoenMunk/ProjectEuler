{
 "cells": [
  {
   "cell_type": "code",
   "execution_count": 40,
   "metadata": {},
   "outputs": [
    {
     "data": {
      "text/plain": [
       "233168"
      ]
     },
     "execution_count": 40,
     "metadata": {},
     "output_type": "execute_result"
    }
   ],
   "source": [
    "# Project Euler problem 1\n",
    "\n",
    "x = []\n",
    "for i in range(0,1000):\n",
    "    if i % 3 == 0 or i % 5 == 0:\n",
    "        x.append(i)\n",
    "y = sum(x)\n",
    "y"
   ]
  },
  {
   "cell_type": "code",
   "execution_count": 46,
   "metadata": {},
   "outputs": [
    {
     "data": {
      "text/plain": [
       "4613732"
      ]
     },
     "execution_count": 46,
     "metadata": {},
     "output_type": "execute_result"
    }
   ],
   "source": [
    "# Project Euler problem 2\n",
    "x = [1, 2, 3, 5]\n",
    "for i in x: \n",
    "    if x[-1] < 4000000:\n",
    "        x.append((x[-2])+(x[-1]))\n",
    "\n",
    "lijst = []\n",
    "for num in x:\n",
    "    if num % 2 == 0:\n",
    "        lijst.append(num)\n",
    "som = sum(lijst)\n",
    "som"
   ]
  },
  {
   "cell_type": "code",
   "execution_count": 52,
   "metadata": {},
   "outputs": [
    {
     "name": "stdout",
     "output_type": "stream",
     "text": [
      "3\n",
      "3\n",
      "73\n",
      "283\n",
      "24121\n"
     ]
    }
   ],
   "source": [
    "# Project Euler problem 3\n",
    "import math\n",
    "def PrimeFactors(n):\n",
    "    \n",
    "    while n % 2 == 0:\n",
    "        print(2)\n",
    "        n = n / 2\n",
    "    \n",
    "    for i in range(3,int(math.sqrt(n))+1,2): \n",
    "          \n",
    "        while n % i== 0: \n",
    "            print(i), \n",
    "            n = n / i \n",
    "              \n",
    "    if n > 2: \n",
    "        print(n)\n",
    "\n",
    "n = 4484841651\n",
    "PrimeFactors(n)"
   ]
  },
  {
   "cell_type": "code",
   "execution_count": 61,
   "metadata": {},
   "outputs": [
    {
     "name": "stdout",
     "output_type": "stream",
     "text": [
      "[]\n"
     ]
    }
   ],
   "source": [
    "# Project Euler problem 4\n",
    "from random import randint\n",
    "reeks = []\n",
    "\n",
    "for i in x:\n",
    "    x = randint(900,1000) * randint(900,1000)\n",
    "    \n",
    "if reeks == reeks[::-1]:\n",
    "    print(reeks)"
   ]
  },
  {
   "cell_type": "code",
   "execution_count": 80,
   "metadata": {},
   "outputs": [
    {
     "name": "stdout",
     "output_type": "stream",
     "text": [
      "232792560\n"
     ]
    }
   ],
   "source": [
    "# Project Euler problem 5 \n",
    "\n",
    "lijst = [2520]\n",
    "for n in lijst:\n",
    "    while n % 1 != 0 or n % 2 != 0 or n % 3 != 0 or n % 4 != 0 or n % 5 != 0 or n % 6 != 0 or n % 7 != 0 or n % 8 != 0 or n % 9 != 0 or n % 10 != 0 or n % 11 != 0 or n % 12 != 0 or n % 13 != 0 or n % 14 != 0 or n % 15 != 0 or n % 16 != 0 or n % 17 != 0 or n % 18 != 0 or n % 19 != 0 or n % 20 != 0:\n",
    "        n = n + 1\n",
    "    else: \n",
    "        print(n)"
   ]
  },
  {
   "cell_type": "code",
   "execution_count": 119,
   "metadata": {},
   "outputs": [
    {
     "ename": "TypeError",
     "evalue": "unsupported operand type(s) for ** or pow(): 'list' and 'list'",
     "output_type": "error",
     "traceback": [
      "\u001b[1;31m---------------------------------------------------------------------------\u001b[0m",
      "\u001b[1;31mTypeError\u001b[0m                                 Traceback (most recent call last)",
      "\u001b[1;32m<ipython-input-119-0cc8f754665c>\u001b[0m in \u001b[0;36m<module>\u001b[1;34m\u001b[0m\n\u001b[0;32m      8\u001b[0m         \u001b[0mlijst\u001b[0m\u001b[1;33m\u001b[0m\u001b[1;33m\u001b[0m\u001b[0m\n\u001b[0;32m      9\u001b[0m \u001b[1;33m\u001b[0m\u001b[0m\n\u001b[1;32m---> 10\u001b[1;33m \u001b[0mlijst\u001b[0m\u001b[1;33m[\u001b[0m\u001b[1;33m:\u001b[0m\u001b[1;33m:\u001b[0m\u001b[1;33m]\u001b[0m \u001b[1;33m**\u001b[0m \u001b[0mlijst\u001b[0m\u001b[1;33m[\u001b[0m\u001b[1;33m:\u001b[0m\u001b[1;33m:\u001b[0m\u001b[1;33m]\u001b[0m\u001b[1;33m\u001b[0m\u001b[1;33m\u001b[0m\u001b[0m\n\u001b[0m\u001b[0;32m     11\u001b[0m \u001b[0mlijst\u001b[0m\u001b[1;33m\u001b[0m\u001b[1;33m\u001b[0m\u001b[0m\n\u001b[0;32m     12\u001b[0m \u001b[1;33m\u001b[0m\u001b[0m\n",
      "\u001b[1;31mTypeError\u001b[0m: unsupported operand type(s) for ** or pow(): 'list' and 'list'"
     ]
    }
   ],
   "source": [
    "# Project Euler problem 6\n",
    "lijst = [0]\n",
    "for n in lijst:\n",
    "    while lijst[-1] < 100:\n",
    "        lijst.append(n)\n",
    "        n = n + 1\n",
    "    else:\n",
    "        lijst\n",
    "        \n",
    "lijst[::] ** lijst[::]\n",
    "lijst\n",
    "    "
   ]
  },
  {
   "cell_type": "code",
   "execution_count": 85,
   "metadata": {},
   "outputs": [
    {
     "name": "stdout",
     "output_type": "stream",
     "text": [
      "Hoi\n"
     ]
    }
   ],
   "source": [
    "print('Hoi')"
   ]
  },
  {
   "cell_type": "code",
   "execution_count": 95,
   "metadata": {},
   "outputs": [
    {
     "name": "stdout",
     "output_type": "stream",
     "text": [
      "[0, 1, 2, 0, 1, 2, 3, 4, 5, 6, 7, 8, 9, 10, 11, 12, 13, 14, 15, 16, 17, 18, 19, 20, 21, 22, 23, 24, 25, 26, 27, 28, 29, 30, 31, 32, 33, 34, 35, 36, 37, 38, 39, 40, 41, 42, 43, 44, 45, 46, 47, 48, 49, 50, 51, 52, 53, 54, 55, 56, 57, 58, 59, 60, 61, 62, 63, 64, 65, 66, 67, 68, 69, 70, 71, 72, 73, 74, 75, 76, 77, 78, 79, 80, 81, 82, 83, 84, 85, 86, 87, 88, 89, 90, 91, 92, 93, 94, 95, 96, 97, 98, 99, 100]\n"
     ]
    }
   ],
   "source": [
    "lijst = [0,1,2]\n",
    "for n in lijst:\n",
    "    while lijst[-1] < 100:\n",
    "        lijst.append(n)\n",
    "        n = n + 1\n",
    "    else:\n",
    "        lijst\n",
    "        \n",
    "print(lijst)\n",
    "\n",
    "        "
   ]
  },
  {
   "cell_type": "code",
   "execution_count": null,
   "metadata": {},
   "outputs": [],
   "source": []
  },
  {
   "cell_type": "code",
   "execution_count": null,
   "metadata": {},
   "outputs": [],
   "source": []
  },
  {
   "cell_type": "code",
   "execution_count": null,
   "metadata": {},
   "outputs": [],
   "source": []
  },
  {
   "cell_type": "code",
   "execution_count": null,
   "metadata": {},
   "outputs": [],
   "source": []
  },
  {
   "cell_type": "code",
   "execution_count": null,
   "metadata": {},
   "outputs": [],
   "source": []
  }
 ],
 "metadata": {
  "kernelspec": {
   "display_name": "Python 3",
   "language": "python",
   "name": "python3"
  },
  "language_info": {
   "codemirror_mode": {
    "name": "ipython",
    "version": 3
   },
   "file_extension": ".py",
   "mimetype": "text/x-python",
   "name": "python",
   "nbconvert_exporter": "python",
   "pygments_lexer": "ipython3",
   "version": "3.7.1"
  }
 },
 "nbformat": 4,
 "nbformat_minor": 2
}
